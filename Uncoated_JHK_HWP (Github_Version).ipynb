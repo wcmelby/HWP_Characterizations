{
 "cells": [
  {
   "cell_type": "code",
   "execution_count": 1,
   "metadata": {},
   "outputs": [],
   "source": [
    "import numpy as np\n",
    "from numpy.linalg import inv\n",
    "from astropy.io import fits\n",
    "import os\n",
    "import re\n",
    "import matplotlib.pyplot as plt\n",
    "from scipy.optimize import curve_fit"
   ]
  },
  {
   "cell_type": "code",
   "execution_count": 2,
   "metadata": {},
   "outputs": [],
   "source": [
    "# Theta from 0 to 180 degrees in increments of 5 degrees (for the first QWP). The second QWP rotates at 5 times this rate (25 degree increments)\n",
    "theta = np.linspace(0, np.pi, 37)\n",
    "longtheta = np.linspace(0, np.pi, 46)\n",
    "degtheta = theta*180/np.pi"
   ]
  },
  {
   "cell_type": "code",
   "execution_count": 3,
   "metadata": {},
   "outputs": [],
   "source": [
    "# Mueller matrix for a linear polarizer, with angle a between transmission axis and horizontal (radians)\n",
    "def linear_polarizer(a):\n",
    "    M01 = np.cos(2*a)\n",
    "    M02 = np.sin(2*a)\n",
    "    M10 = np.cos(2*a)\n",
    "    M11 = np.cos(2*a)**2\n",
    "    M12 = np.cos(2*a)*np.sin(2*a)\n",
    "    M20 = np.sin(2*a)\n",
    "    M21 = np.cos(2*a)*np.sin(2*a)\n",
    "    M22 = np.sin(2*a)**2\n",
    "\n",
    "    return 0.5*np.array([[1, M01, M02, 0], \n",
    "                         [M10, M11, M12, 0], \n",
    "                         [M20, M21, M22, 0], \n",
    "                         [0, 0, 0, 0]])"
   ]
  },
  {
   "cell_type": "code",
   "execution_count": 4,
   "metadata": {},
   "outputs": [],
   "source": [
    "# Mueller matrix for a linear retarder (waveplate). Angle of fast axis a, retardance r in radians\n",
    "def linear_retarder(a, r):\n",
    "    M11 = np.cos(2*a)**2 + np.cos(r)*np.sin(2*a)**2\n",
    "    M12 = np.cos(2*a)*np.sin(2*a)*(1-np.cos(r))\n",
    "    M13 = -np.sin(2*a)*np.sin(r)\n",
    "    M21 = M12\n",
    "    M22 = np.sin(2*a)**2 + np.cos(2*a)**2*np.cos(r)\n",
    "    M23 = np.cos(2*a)*np.sin(r)\n",
    "    M31 = -M13\n",
    "    M32 = -M23\n",
    "    M33 = np.cos(r)\n",
    "\n",
    "    return np.array([[1, 0, 0, 0], \n",
    "                     [0, M11, M12, M13], \n",
    "                     [0, M21, M22, M23], \n",
    "                     [0, M31, M32, M33]])"
   ]
  },
  {
   "cell_type": "code",
   "execution_count": 5,
   "metadata": {},
   "outputs": [],
   "source": [
    "# Sorting function for extracting filenames based on last number in the filename (the angle of rotation)\n",
    "def extract_number(filename):\n",
    "    match = re.findall(r'\\d+(?:\\.\\d+)?', filename)\n",
    "    if match:\n",
    "        return float(match[-1])"
   ]
  },
  {
   "cell_type": "code",
   "execution_count": 6,
   "metadata": {},
   "outputs": [],
   "source": [
    "# Function to subtract dark frames from raw frames. The new reduced images are saved to a different folder\n",
    "def dark_subtraction(image_file, dark_file, old_directory, new_directory):\n",
    "    # Open the dark image and extract pixel values\n",
    "    fits.open(dark_file)\n",
    "    dark = fits.getdata(dark_file)\n",
    "    dark_median = np.median(dark, axis=0)\n",
    "\n",
    "    # Search through the desired raw data folder\n",
    "    for filename in os.listdir(old_directory):\n",
    "        if filename.startswith(image_file):                                # Call specific files starting with the desired name\n",
    "            with fits.open(os.path.join(old_directory, filename)) as hdul:\n",
    "                img_data = hdul[0].data\n",
    "                img_median = np.median(img_data, axis=0)\n",
    "                reduced_data = img_median - dark_median\n",
    "\n",
    "            # Save the newly reduced image to a reduced data folder\n",
    "            new_filename = f\"Reduced_{filename}\"\n",
    "            new_filepath = os.path.join(new_directory, new_filename)\n",
    "            fits.writeto(new_filepath, reduced_data, overwrite=True)"
   ]
  },
  {
   "cell_type": "code",
   "execution_count": 7,
   "metadata": {},
   "outputs": [],
   "source": [
    "# Get intensity values from each spot in the reduced images. reduced_filename should just be the start of the name (leave out the last number, the angle). \n",
    "def extract_intensities(reduced_filename, reduced_folder, lcenter, rcenter, maxradius, cutoff=5000):\n",
    "    I_left = np.array([])\n",
    "    I_right = np.array([])\n",
    "    bad_indices = np.array([])\n",
    "\n",
    "    for filename in sorted(os.listdir(reduced_folder), key = extract_number):\n",
    "        if filename.startswith(reduced_filename):\n",
    "            with fits.open(os.path.join(reduced_folder, filename)) as hdul:\n",
    "                reduced_img_data = hdul[0].data\n",
    "                ys, xs, = np.indices(reduced_img_data.shape)\n",
    "                lradius = np.sqrt((ys-lcenter[0])**2+(xs-lcenter[1])**2)\n",
    "                rradius = np.sqrt((ys-rcenter[0])**2+(xs-rcenter[1])**2)\n",
    "\n",
    "                lbackground_mask = (lradius > 20) & (lradius < 26)\n",
    "                rbackground_mask = (rradius > 20) & (rradius < 26)   # Index the background around each spot, take the median value\n",
    "\n",
    "                background_lmedian = np.median(reduced_img_data[lbackground_mask])\n",
    "                background_rmedian = np.median(reduced_img_data[rbackground_mask])\n",
    "\n",
    "                lflux = np.sum(reduced_img_data[lradius < maxradius] - background_lmedian)   # Now take the flux with the background mask subtracted\n",
    "                rflux = np.sum(reduced_img_data[rradius < maxradius] - background_rmedian)\n",
    "                I_left = np.append(I_left, lflux)\n",
    "                I_right = np.append(I_right, rflux)\n",
    "\n",
    "                if lflux+rflux < cutoff:\n",
    "                    print(\"Warning: low flux detected, check the image \" + filename + \", index: \" + str(sorted(os.listdir(reduced_folder), key = extract_number).index(filename)))\n",
    "                    bad_indices = np.append(bad_indices, sorted(os.listdir(reduced_folder), key = extract_number).index(filename))\n",
    "                else:\n",
    "                    continue \n",
    "\n",
    "    return I_left, I_right, bad_indices"
   ]
  },
  {
   "cell_type": "code",
   "execution_count": 8,
   "metadata": {},
   "outputs": [],
   "source": [
    "# Gives the condition number of eventual Mueller matrix (made by Jaren)\n",
    "def condition_number(matrix):\n",
    "    minv = np.linalg.pinv(matrix)\n",
    "\n",
    "    # Compute maximum norm\n",
    "    norm = np.linalg.norm(matrix, ord=np.inf)\n",
    "    ninv = np.linalg.norm(minv, ord=np.inf)\n",
    "\n",
    "    return norm*ninv"
   ]
  },
  {
   "cell_type": "code",
   "execution_count": 9,
   "metadata": {},
   "outputs": [],
   "source": [
    "# Function to compute the Mueller matrix of a sample based on DRRP intensity measurements. Big thanks to Jaren for this part!\n",
    "def original_full_mueller_polarimetry(thetas, I_meas=1, LPA_angle=0, return_condition_number=False, M_in=None):\n",
    "    nmeas = len(thetas)\n",
    "    Wmat = np.zeros([nmeas, 16])\n",
    "    Pmat = np.zeros([nmeas])\n",
    "    th = thetas\n",
    "\n",
    "    for i in range(nmeas):\n",
    "        # Mueller Matrix of generator (linear polarizer and a quarter wave plate)\n",
    "        Mg = linear_retarder(th[i], np.pi/2) @ linear_polarizer(0)\n",
    "\n",
    "        # Mueller Matrix of analyzer (one channel of the Wollaston prism is treated as a linear polarizer. The right spot is horizontal (0) and the left spot is vertical(pi/2))\n",
    "        Ma = linear_polarizer(LPA_angle) @ linear_retarder(th[i]*5, np.pi/2)\n",
    "\n",
    "        # Data reduction matrix. Taking the 0 index ensures that intensity is the output\n",
    "        Wmat[i,:] = np.kron(Ma[0,:], Mg[:,0])\n",
    "\n",
    "        # M_in is some example Mueller matrix. Providing this input will test theoretical Mueller matrix. Otherwise, the raw data is used\n",
    "        if M_in is not None:\n",
    "            Pmat[i] = (Ma[0,:] @ M_in @ Mg[:,0]) * I_meas\n",
    "        else:\n",
    "            Pmat[i] = I_meas[i]\n",
    "\n",
    "    # Compute Mueller matrix using Moore-Penrose pseudo invervse\n",
    "    M = np.linalg.pinv(Wmat) @ Pmat\n",
    "    M = np.reshape(M,[4,4])\n",
    "\n",
    "    if return_condition_number == True:\n",
    "        return M, condition_number(Wmat)\n",
    "    else:\n",
    "        return M"
   ]
  },
  {
   "cell_type": "code",
   "execution_count": 10,
   "metadata": {},
   "outputs": [],
   "source": [
    "# Function to compute the Mueller matrix of a sample based on DRRP intensity measurements and calibration parameters\n",
    "def calibrated_full_mueller_polarimetry(thetas, a1, a2, w1, w2, r1, r2, I_meas=1, LPA_angle=0, return_condition_number=False, M_in=None):\n",
    "    nmeas = len(thetas)\n",
    "    Wmat = np.zeros([nmeas, 16])\n",
    "    Pmat = np.zeros([nmeas])\n",
    "    th = thetas\n",
    "\n",
    "    for i in range(nmeas):\n",
    "        # Mueller Matrix of generator (linear polarizer and a quarter wave plate)\n",
    "        Mg = linear_retarder(th[i]+w1, np.pi/2+r1) @ linear_polarizer(0+a1)\n",
    "\n",
    "        # Mueller Matrix of analyzer (one channel of the Wollaston prism is treated as a linear polarizer. The right spot is horizontal (0) and the left spot is vertical(pi/2))\n",
    "        Ma = linear_polarizer(LPA_angle+a2) @ linear_retarder(th[i]*5+w2, np.pi/2+r2)\n",
    "\n",
    "        # Data reduction matrix. Taking the 0 index ensures that intensity is the output\n",
    "        Wmat[i,:] = np.kron(Ma[0,:], Mg[:,0])\n",
    "\n",
    "        # M_in is some example Mueller matrix. Providing this input will test theoretical Mueller matrix. Otherwise, the raw data is used\n",
    "        if M_in is not None:\n",
    "            Pmat[i] = (Ma[0,:] @ M_in @ Mg[:,0]) * I_meas\n",
    "        else:\n",
    "            Pmat[i] = I_meas[i]\n",
    "\n",
    "    # Compute Mueller matrix using Moore-Penrose pseudo invervse\n",
    "    M = np.linalg.pinv(Wmat) @ Pmat\n",
    "    M = np.reshape(M,[4,4])\n",
    "\n",
    "    if return_condition_number == True:\n",
    "        return M, condition_number(Wmat)\n",
    "    else:\n",
    "        return M"
   ]
  },
  {
   "cell_type": "code",
   "execution_count": 11,
   "metadata": {},
   "outputs": [],
   "source": [
    "# Define the identity matrix and other matrices which are useful for the Mueller calculus\n",
    "M_identity = np.array([[1, 0, 0, 0], [0, 1, 0, 0], [0, 0, 1, 0], [0, 0, 0, 1]])\n",
    "A = np.array([1, 0, 0, 0])\n",
    "B = np.array([[1], [0], [0], [0]])"
   ]
  },
  {
   "cell_type": "code",
   "execution_count": 12,
   "metadata": {},
   "outputs": [],
   "source": [
    "# This is the full Mueller matrix equation for our setup. The output is a list, useful for curve fitting. Variables with 1 refer to the generator, 2 refers to analyzer. \n",
    "def calibration_function(t, a1, a2, w1, w2, r1, r2):\n",
    "    prediction = [None]*len(t)\n",
    "    for i in range(len(t)):\n",
    "        prediction[i] = float(A @ linear_polarizer(a2) @ linear_retarder(5*t[i]+w2, np.pi/2+r2) @ M_identity @ linear_retarder(t[i]+w1, np.pi/2+r1) @ linear_polarizer(a1) @ B)\n",
    "    return prediction"
   ]
  },
  {
   "cell_type": "code",
   "execution_count": 13,
   "metadata": {},
   "outputs": [],
   "source": [
    "# Calibration function designed for data from the left spot, which is the vertial alignment. This changes the angle of the analyzing LP\n",
    "def vertical_calibration_function(t, a1, a2, w1, w2, r1, r2):\n",
    "    prediction = [None]*len(t)\n",
    "    for i in range(len(t)):\n",
    "        prediction[i] = float(A @ linear_polarizer(a2+np.pi/2) @ linear_retarder(5*t[i]+w2, np.pi/2+r2) @ M_identity @ linear_retarder(t[i]+w1, np.pi/2+r1) @ linear_polarizer(a1) @ B)\n",
    "    return prediction"
   ]
  },
  {
   "cell_type": "code",
   "execution_count": 14,
   "metadata": {},
   "outputs": [],
   "source": [
    "# Basically the same as above, but with an optional input matrix to simulate data\n",
    "def output_simulation_function(t, a1, a2, w1, w2, r1, r2, LPA_angle=0, M_in=None):\n",
    "    if M_in is None:\n",
    "        M = M_identity\n",
    "    else:\n",
    "        M = M_in\n",
    "\n",
    "    prediction = [None]*len(t)\n",
    "    for i in range(len(t)):\n",
    "        prediction[i] = float(A @ linear_polarizer(LPA_angle+a2) @ linear_retarder(5*t[i]+w2, np.pi/2+r2) @ M @ linear_retarder(t[i]+w1, np.pi/2+r1) @ linear_polarizer(a1) @ B)\n",
    "    return prediction"
   ]
  },
  {
   "cell_type": "code",
   "execution_count": 15,
   "metadata": {},
   "outputs": [],
   "source": [
    "# After testing, each of the above functions works individually. Now combine them into one function to rule them all\n",
    "# Finds the mueller matrix derived from each channel separately, then averages the two retardances found this way\n",
    "# First three inputs must come from the calibration data, last three inputs correspond to the HWP sample\n",
    "def ultimate_polarimetry(cal_angles, cal_left_intensity, cal_right_intensity, sample_angles, sample_left_intensity, sample_right_intensity):\n",
    "    initial_guess = [0, 0, 0, 0, 0, 0]\n",
    "    parameter_bounds = ([-np.pi, -np.pi, -np.pi, -np.pi, -np.pi/2, -np.pi/2], [np.pi, np.pi, np.pi, np.pi, np.pi/2, np.pi/2])\n",
    "\n",
    "    # Find parameters from calibration of the left spot\n",
    "    lnormalized_intensity = cal_left_intensity/(2*max(cal_left_intensity))\n",
    "    lpopt, lpcov = curve_fit(vertical_calibration_function, cal_angles, lnormalized_intensity, p0=initial_guess, bounds=parameter_bounds)\n",
    "    print(lpopt, \"Left parameters for a1, a2, w1, w2, r1, and r2. 1 for generator, 2 for analyzer\")\n",
    "    #print(np.sqrt(np.diag(lpcov)))\n",
    "\n",
    "    # Find parameters from calibration of the right spot\n",
    "    rnormalized_intensity = cal_right_intensity/(2*max(cal_right_intensity))\n",
    "    rpopt, rpcov = curve_fit(calibration_function, cal_angles, rnormalized_intensity, p0=initial_guess, bounds=parameter_bounds)\n",
    "    print(rpopt, \"Right parameters for a1, a2, w1, w2, r1, and r2. 1 for generator, 2 for analyzer\")\n",
    "    #print(np.sqrt(np.diag(rpcov)))\n",
    "\n",
    "    # Optional print the calibration matrices (should be close to identity) to see how well the parameters compensate\n",
    "    MlCal = calibrated_full_mueller_polarimetry(cal_angles, lpopt[0], lpopt[1], lpopt[2], lpopt[3], lpopt[4], lpopt[5], cal_left_intensity, LPA_angle=np.pi/2)\n",
    "    print(MlCal/MlCal.max(), ' Left calibration')\n",
    "    MrCal = calibrated_full_mueller_polarimetry(cal_angles, rpopt[0], rpopt[1], rpopt[2], rpopt[3], rpopt[4], rpopt[5], cal_right_intensity)\n",
    "    print(MrCal/MrCal.max(), ' Right calibration')\n",
    "\n",
    "    # Use the parameters found above from curve fitting to construct the actual Mueller matrix of the sample\n",
    "    Ml = calibrated_full_mueller_polarimetry(sample_angles, lpopt[0], lpopt[1], lpopt[2], lpopt[3], lpopt[4], lpopt[5], sample_left_intensity, LPA_angle=np.pi/2)\n",
    "    Ml = Ml/Ml.max()\n",
    "\n",
    "    Mr = calibrated_full_mueller_polarimetry(sample_angles, rpopt[0], rpopt[1], rpopt[2], rpopt[3], rpopt[4], rpopt[5], sample_right_intensity)\n",
    "    Mr = Mr/Mr.max()\n",
    "\n",
    "    np.set_printoptions(suppress=True)\n",
    "\n",
    "    # Extract retardance from the last entry of the mueller matrix, which should just be cos(phi)\n",
    "    lretardance = np.arccos(Ml[3,3])/(2*np.pi)\n",
    "    rretardance = np.arccos(Mr[3,3])/(2*np.pi)\n",
    "    print(lretardance, ' This is the retardance found from the left spot')\n",
    "    print(rretardance, ' This is the retardance found from the right spot')\n",
    "\n",
    "    avg_retardance = (lretardance+rretardance)/2\n",
    "\n",
    "    return Ml, Mr, avg_retardance"
   ]
  },
  {
   "cell_type": "markdown",
   "metadata": {},
   "source": [
    "Now lets do 1600 nm, 300 fps, 3.3 tint"
   ]
  },
  {
   "cell_type": "code",
   "execution_count": 16,
   "metadata": {},
   "outputs": [],
   "source": [
    "# First reduce the calibration data\n",
    "raw_image = 'DRRP_Cal_1500nm300_3.3_'\n",
    "dark_image = 'C:\\\\Users\\\\EPL User\\\\Desktop\\\\DRRP_HWP_Characterization\\\\Darks\\\\Dark_300_3.3.fits'\n",
    "raw_image_folder = r\"C:\\\\Users\\\\EPL User\\\\Desktop\\\\DRRP_HWP_Characterization\\\\Uncoated_JHK\\\\Calibrations\\\\Calibrations_Raw\\\\Cal_1600_Filter\\\\\"\n",
    "reduced_image_folder = r\"C:\\\\Users\\\\EPL User\\\\Desktop\\\\DRRP_HWP_Characterization\\\\Uncoated_JHK\\\\Calibrations\\\\Calibrations_Reduced\\\\Cal_1600_Reduced\\\\\"\n",
    "\n",
    "dark_subtraction(raw_image, dark_image, raw_image_folder, reduced_image_folder)"
   ]
  },
  {
   "cell_type": "code",
   "execution_count": 17,
   "metadata": {},
   "outputs": [
    {
     "name": "stdout",
     "output_type": "stream",
     "text": [
      "Warning: low flux detected, check the image Reduced_DRRP_Cal_1500nm300_3.3_0.0.fits, index: 0\n",
      "Warning: low flux detected, check the image Reduced_DRRP_Cal_1500nm300_3.3_34.9999658203125.fits, index: 7\n",
      "Warning: low flux detected, check the image Reduced_DRRP_Cal_1500nm300_3.3_64.9999365234375.fits, index: 13\n",
      "Warning: low flux detected, check the image Reduced_DRRP_Cal_1500nm300_3.3_69.999931640625.fits, index: 14\n"
     ]
    }
   ],
   "source": [
    "reduced_filename = 'Reduced_DRRP_Cal_1500nm300_'\n",
    "reduced_folder = r\"C:\\\\Users\\\\EPL User\\\\Desktop\\\\DRRP_HWP_Characterization\\\\Uncoated_JHK\\\\Calibrations\\\\Calibrations_Reduced\\\\Cal_1600_Reduced\\\\\"\n",
    "lcenter = [258, 252]\n",
    "rcenter = [258, 329]\n",
    "maxradius = 9\n",
    "cutoff = 12000\n",
    "\n",
    "extracted_data = extract_intensities(reduced_filename, reduced_folder, lcenter, rcenter, maxradius, cutoff)\n",
    "Cal_Il_1600 = extracted_data[0]\n",
    "Cal_Ir_1600 = extracted_data[1]"
   ]
  },
  {
   "cell_type": "code",
   "execution_count": 18,
   "metadata": {},
   "outputs": [],
   "source": [
    "Cal_Il_1600 = np.delete(Cal_Il_1600, [0, 7, 13, 14])\n",
    "Cal_Ir_1600 = np.delete(Cal_Ir_1600, [0, 7, 13, 14])\n",
    "Cal_theta1600 = np.delete(theta, [0, 7, 13, 14])"
   ]
  },
  {
   "cell_type": "code",
   "execution_count": 19,
   "metadata": {},
   "outputs": [],
   "source": [
    "# Now bring in the actual sample data\n",
    "raw_image = 'DRRP_Uncoated_1600nm_300_'\n",
    "dark_image = 'C:\\\\Users\\\\EPL User\\\\Desktop\\\\DRRP_HWP_Characterization\\\\Darks\\\\Dark_300_3.3.fits'\n",
    "raw_image_folder = r\"C:\\\\Users\\\\EPL User\\\\Desktop\\\\DRRP_HWP_Characterization\\\\Uncoated_JHK\\\\Uncoated_Raw\\\\Uncoated_1600_Filter\\\\\"\n",
    "reduced_image_folder = r\"C:\\\\Users\\\\EPL User\\\\Desktop\\\\DRRP_HWP_Characterization\\\\Uncoated_JHK\\\\Uncoated_Reduced\\\\Uncoated_1600_Reduced\\\\\"\n",
    "\n",
    "dark_subtraction(raw_image, dark_image, raw_image_folder, reduced_image_folder)"
   ]
  },
  {
   "cell_type": "code",
   "execution_count": 20,
   "metadata": {},
   "outputs": [
    {
     "name": "stdout",
     "output_type": "stream",
     "text": [
      "Warning: low flux detected, check the image Reduced_DRRP_Uncoated_1600nm_300_3.3_69.999931640625.fits, index: 14\n",
      "Warning: low flux detected, check the image Reduced_DRRP_Uncoated_1600nm_300_3.3_159.99984375.fits, index: 32\n",
      "Warning: low flux detected, check the image Reduced_DRRP_Uncoated_1600nm_300_3.3_164.9998388671875.fits, index: 33\n",
      "Warning: low flux detected, check the image Reduced_DRRP_Uncoated_1600nm_300_3.3_169.999833984375.fits, index: 34\n"
     ]
    }
   ],
   "source": [
    "reduced_filename = 'Reduced_DRRP_Uncoated_1600nm_300_'\n",
    "reduced_folder = r\"C:\\\\Users\\\\EPL User\\\\Desktop\\\\DRRP_HWP_Characterization\\\\Uncoated_JHK\\\\Uncoated_Reduced\\\\Uncoated_1600_Reduced\\\\\"\n",
    "lcenter = [258, 252]\n",
    "rcenter = [257, 329]\n",
    "maxradius = 9\n",
    "cutoff = 15000\n",
    "\n",
    "extracted_data = extract_intensities(reduced_filename, reduced_folder, lcenter, rcenter, maxradius, cutoff)\n",
    "Il_1600 = extracted_data[0]\n",
    "Ir_1600 = extracted_data[1]"
   ]
  },
  {
   "cell_type": "code",
   "execution_count": 21,
   "metadata": {},
   "outputs": [],
   "source": [
    "Il_1600 = np.delete(Il_1600, [14, 32, 33, 34])\n",
    "Ir_1600 = np.delete(Ir_1600, [14, 32, 33, 34])\n",
    "theta1600 = np.delete(theta, [14, 32, 33, 34])"
   ]
  },
  {
   "cell_type": "code",
   "execution_count": 22,
   "metadata": {},
   "outputs": [
    {
     "name": "stdout",
     "output_type": "stream",
     "text": [
      "[ 0.03281     0.0383252   0.05020145 -0.07245235  0.02063271  0.00637496] Left parameters for a1, a2, w1, w2, r1, and r2. 1 for generator, 2 for analyzer\n",
      "[ 0.04793312  0.0511963   0.06320084 -0.05946429  0.02685385  0.00487121] Right parameters for a1, a2, w1, w2, r1, and r2. 1 for generator, 2 for analyzer\n",
      "[[ 1.00000000e+00 -6.55649875e-03 -6.93774523e-05  6.36881345e-03]\n",
      " [ 7.83346355e-03  9.84451883e-01  2.24047805e-03  5.94041669e-03]\n",
      " [-1.47127556e-03  3.98796677e-03  9.82667240e-01 -6.05569324e-04]\n",
      " [-1.76521511e-03 -7.37346572e-04  3.91359732e-03  9.97440673e-01]]  Left calibration\n",
      "[[ 9.98146903e-01 -5.05287539e-03 -7.19405766e-06  5.87711605e-03]\n",
      " [-3.29073116e-03  9.83158928e-01  4.21844860e-03  2.87302323e-03]\n",
      " [-6.57363603e-03  1.05053522e-02  1.00000000e+00 -1.24754436e-02]\n",
      " [ 6.11731788e-03 -6.47098688e-03 -1.36944914e-02  9.88764954e-01]]  Right calibration\n",
      "0.47950195479571245  This is the retardance found from the left spot\n",
      "0.46817994285382897  This is the retardance found from the right spot\n"
     ]
    },
    {
     "data": {
      "text/plain": [
       "(array([[ 1.        , -0.00509118, -0.00211906, -0.00496846],\n",
       "        [-0.00016518,  0.98739646,  0.0205981 ,  0.11420561],\n",
       "        [-0.00861057,  0.02537072, -0.99111006, -0.07208347],\n",
       "        [ 0.00189128,  0.11450809,  0.07975542, -0.99171764]]),\n",
       " array([[ 1.        , -0.0084522 ,  0.00053631,  0.00250051],\n",
       "        [ 0.00445315,  0.98528583,  0.06206105,  0.11876631],\n",
       "        [ 0.00545279,  0.07660651, -0.97669765, -0.07288622],\n",
       "        [-0.00273179,  0.11551411,  0.08307931, -0.98008022]]),\n",
       " 0.4738409488247707)"
      ]
     },
     "execution_count": 22,
     "metadata": {},
     "output_type": "execute_result"
    }
   ],
   "source": [
    "ultimate_polarimetry(Cal_theta1600, Cal_Il_1600, Cal_Ir_1600, theta1600, Il_1600, Ir_1600)"
   ]
  },
  {
   "cell_type": "code",
   "execution_count": null,
   "metadata": {},
   "outputs": [],
   "source": []
  }
 ],
 "metadata": {
  "kernelspec": {
   "display_name": "base",
   "language": "python",
   "name": "python3"
  },
  "language_info": {
   "codemirror_mode": {
    "name": "ipython",
    "version": 3
   },
   "file_extension": ".py",
   "mimetype": "text/x-python",
   "name": "python",
   "nbconvert_exporter": "python",
   "pygments_lexer": "ipython3",
   "version": "3.10.9"
  },
  "orig_nbformat": 4
 },
 "nbformat": 4,
 "nbformat_minor": 2
}
